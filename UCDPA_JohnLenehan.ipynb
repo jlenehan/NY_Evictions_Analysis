{
 "cells": [
  {
   "cell_type": "code",
   "execution_count": 1,
   "id": "e45b76b4",
   "metadata": {},
   "outputs": [],
   "source": [
    "#Open source dataset - evictions in New York from 2017 to present \n",
    "#Source: https://data.cityofnewyork.us/City-Government/Evictions/6z8x-wfk4\n",
    "#(JSON: https://data.cityofnewyork.us/resource/6z8x-wfk4.json?$limit=100000)"
   ]
  },
  {
   "cell_type": "code",
   "execution_count": 79,
   "id": "ccbdc46f",
   "metadata": {},
   "outputs": [],
   "source": [
    "##########################################\n",
    "#Step 0: Import libraries\n",
    "##########################################\n",
    "import requests\n",
    "import pandas as pd\n",
    "from datetime import date\n",
    "import matplotlib.pyplot as plt\n",
    "import numpy as np\n",
    "#import geopandas as gpd\n",
    "import seaborn as sns\n",
    "from sqlalchemy import create_engine"
   ]
  },
  {
   "cell_type": "code",
   "execution_count": 15,
   "id": "273404cb",
   "metadata": {},
   "outputs": [],
   "source": [
    "##########################################\n",
    "#Step 1: Import data\n",
    "##########################################\n",
    "\n",
    "#Data is of evictions in New York from 2017 to present\n",
    "#Source: https://data.cityofnewyork.us/City-Government/Evictions/6z8x-wfk4"
   ]
  },
  {
   "cell_type": "code",
   "execution_count": 16,
   "id": "d9f14add",
   "metadata": {},
   "outputs": [],
   "source": [
    "#Set limit to 100,000 to capture all entries in \n",
    "NY_Evictions_gross = pd.read_json(r'https://data.cityofnewyork.us/resource/6z8x-wfk4.json?$limit=100000')"
   ]
  },
  {
   "cell_type": "code",
   "execution_count": 17,
   "id": "b39ba943",
   "metadata": {},
   "outputs": [],
   "source": [
    "##########################################\n",
    "#Step 2: Describe data\n",
    "##########################################"
   ]
  },
  {
   "cell_type": "code",
   "execution_count": 21,
   "id": "31c4f6b0",
   "metadata": {},
   "outputs": [
    {
     "name": "stdout",
     "output_type": "stream",
     "text": [
      "Index(['court_index_number', 'docket_number', 'eviction_address',\n",
      "       'eviction_apt_num', 'executed_date', 'marshal_first_name',\n",
      "       'marshal_last_name', 'residential_commercial_ind', 'borough',\n",
      "       'eviction_zip', 'ejectment', 'eviction_possession', 'latitude',\n",
      "       'longitude', 'community_board', 'council_district', 'census_tract',\n",
      "       'bin', 'bbl', 'nta'],\n",
      "      dtype='object')\n"
     ]
    }
   ],
   "source": [
    "print(NY_Evictions_gross.columns)"
   ]
  },
  {
   "cell_type": "code",
   "execution_count": 19,
   "id": "fdd4c7f1",
   "metadata": {},
   "outputs": [],
   "source": [
    "NY_Evictions = NY_Evictions_gross\n",
    "#[['court_index_number', 'docket_number', 'eviction_address',\n",
    " #      'eviction_apt_num', 'executed_date', 'marshal_first_name',\n",
    "  #     'marshal_last_name', 'residential_commercial_ind', 'borough',\n",
    "   #    'eviction_zip', 'ejectment', 'eviction_possession', 'community_board', 'council_district', 'census_tract',\n",
    "    #   'bin', 'bbl', 'nta']]"
   ]
  },
  {
   "cell_type": "code",
   "execution_count": 8,
   "id": "e27bdddc",
   "metadata": {},
   "outputs": [
    {
     "name": "stdout",
     "output_type": "stream",
     "text": [
      "  court_index_number  docket_number       eviction_address eviction_apt_num  \\\n",
      "0            8029/18         343313  220 WEST 167TH STREET              2-B   \n",
      "1           74409/18          22777   145-02 ROCKAWAY BLVD              NaN   \n",
      "2           33073/18           3964     1950 BRYANT AVENUE         BASEMENT   \n",
      "3           85137/17          76574      319 ELLERY STREET               3L   \n",
      "4          58266/17B         475956     318-320 E. 151 ST.               1C   \n",
      "\n",
      "             executed_date marshal_first_name marshal_last_name  \\\n",
      "0  2018-11-26T00:00:00.000             Thomas               Bia   \n",
      "1  2019-05-28T00:00:00.000             Edward             Guida   \n",
      "2  2019-02-21T00:00:00.000              Vadim       Barbarovich   \n",
      "3  2018-01-03T00:00:00.000              Henry             Daley   \n",
      "4  2018-01-17T00:00:00.000              Danny          Weinheim   \n",
      "\n",
      "  residential_commercial_ind   borough  eviction_zip         ejectment  \\\n",
      "0                Residential     BRONX         10452  Not an Ejectment   \n",
      "1                Residential    QUEENS         11436  Not an Ejectment   \n",
      "2                Residential     BRONX         10460  Not an Ejectment   \n",
      "3                Residential  BROOKLYN         11206  Not an Ejectment   \n",
      "4                Residential     BRONX         10451  Not an Ejectment   \n",
      "\n",
      "  eviction_possession   latitude  longitude  community_board  \\\n",
      "0          Possession  40.838482 -73.928014              4.0   \n",
      "1          Possession  40.673648 -73.793525             12.0   \n",
      "2          Possession  40.840341 -73.881849              6.0   \n",
      "3          Possession  40.699967 -73.939202              4.0   \n",
      "4          Possession  40.818303 -73.920210              1.0   \n",
      "\n",
      "   council_district  census_tract        bin           bbl  \\\n",
      "0              16.0         193.0  2117215.0  2.025270e+09   \n",
      "1              28.0         790.0  4261974.0  4.120630e+09   \n",
      "2              17.0         359.0  2010894.0  2.030050e+09   \n",
      "3              34.0         389.0  3071703.0  3.031320e+09   \n",
      "4              17.0          65.0  2001838.0  2.024100e+09   \n",
      "\n",
      "                              nta  \n",
      "0                      Highbridge  \n",
      "1                    Baisley Park  \n",
      "2                    East Tremont  \n",
      "3                  Bushwick South  \n",
      "4  Melrose South-Mott Haven North  \n"
     ]
    }
   ],
   "source": [
    "print(NY_Evictions.head())"
   ]
  },
  {
   "cell_type": "code",
   "execution_count": 22,
   "id": "f2cd8a9b",
   "metadata": {},
   "outputs": [
    {
     "name": "stdout",
     "output_type": "stream",
     "text": [
      "       docket_number  eviction_zip      latitude     longitude  \\\n",
      "count   70166.000000  70166.000000  63418.000000  63418.000000   \n",
      "mean   152621.121455  10794.114642     40.751723    -73.908298   \n",
      "std    147196.950665    519.241108      0.091144      0.068419   \n",
      "min         1.000000      0.000000     40.499050    -74.251262   \n",
      "25%     60322.750000  10454.000000     40.672157    -73.945088   \n",
      "50%     92436.000000  10473.000000     40.752391    -73.910000   \n",
      "75%    288142.750000  11229.000000     40.836407    -73.871685   \n",
      "max    496987.000000  12221.000000     40.911588    -73.701430   \n",
      "\n",
      "       community_board  council_district   census_tract           bin  \\\n",
      "count     63418.000000      63418.000000   63418.000000  6.329000e+04   \n",
      "mean          8.002618         23.821991    8426.561686  2.705794e+06   \n",
      "std           4.576517         13.755295   21546.774078  1.116501e+06   \n",
      "min           1.000000          1.000000       1.000000  1.000000e+06   \n",
      "25%           4.000000         13.000000     197.000000  2.010545e+06   \n",
      "50%           8.000000         19.000000     379.000000  3.000000e+06   \n",
      "75%          12.000000         36.000000     966.000000  3.337942e+06   \n",
      "max          18.000000         51.000000  157903.000000  5.171959e+06   \n",
      "\n",
      "                bbl  \n",
      "count  6.329000e+04  \n",
      "mean   2.629381e+09  \n",
      "std    1.063473e+09  \n",
      "min    0.000000e+00  \n",
      "25%    2.028290e+09  \n",
      "50%    3.000368e+09  \n",
      "75%    3.072340e+09  \n",
      "max    5.080490e+09  \n"
     ]
    }
   ],
   "source": [
    "print(NY_Evictions.describe())"
   ]
  },
  {
   "cell_type": "code",
   "execution_count": 98,
   "id": "887a9b6f",
   "metadata": {
    "scrolled": true
   },
   "outputs": [
    {
     "ename": "AttributeError",
     "evalue": "'Series' object has no attribute 'split'",
     "output_type": "error",
     "traceback": [
      "\u001b[1;31m---------------------------------------------------------------------------\u001b[0m",
      "\u001b[1;31mAttributeError\u001b[0m                            Traceback (most recent call last)",
      "Input \u001b[1;32mIn [98]\u001b[0m, in \u001b[0;36m<cell line: 2>\u001b[1;34m()\u001b[0m\n\u001b[0;32m      1\u001b[0m \u001b[38;5;66;03m#for y in NY_Evictions.executed_date:\u001b[39;00m\n\u001b[1;32m----> 2\u001b[0m day, month, year \u001b[38;5;241m=\u001b[39m \u001b[43mNY_Evictions\u001b[49m\u001b[43m[\u001b[49m\u001b[38;5;124;43m'\u001b[39;49m\u001b[38;5;124;43mexecuted_date\u001b[39;49m\u001b[38;5;124;43m'\u001b[39;49m\u001b[43m]\u001b[49m\u001b[38;5;241;43m.\u001b[39;49m\u001b[43msplit\u001b[49m(\u001b[38;5;124m'\u001b[39m\u001b[38;5;124m-\u001b[39m\u001b[38;5;124m'\u001b[39m)\n\u001b[0;32m      3\u001b[0m \u001b[38;5;28mprint\u001b[39m(year)\n",
      "File \u001b[1;32m~\\Anaconda3\\lib\\site-packages\\pandas\\core\\generic.py:5575\u001b[0m, in \u001b[0;36mNDFrame.__getattr__\u001b[1;34m(self, name)\u001b[0m\n\u001b[0;32m   5568\u001b[0m \u001b[38;5;28;01mif\u001b[39;00m (\n\u001b[0;32m   5569\u001b[0m     name \u001b[38;5;129;01mnot\u001b[39;00m \u001b[38;5;129;01min\u001b[39;00m \u001b[38;5;28mself\u001b[39m\u001b[38;5;241m.\u001b[39m_internal_names_set\n\u001b[0;32m   5570\u001b[0m     \u001b[38;5;129;01mand\u001b[39;00m name \u001b[38;5;129;01mnot\u001b[39;00m \u001b[38;5;129;01min\u001b[39;00m \u001b[38;5;28mself\u001b[39m\u001b[38;5;241m.\u001b[39m_metadata\n\u001b[0;32m   5571\u001b[0m     \u001b[38;5;129;01mand\u001b[39;00m name \u001b[38;5;129;01mnot\u001b[39;00m \u001b[38;5;129;01min\u001b[39;00m \u001b[38;5;28mself\u001b[39m\u001b[38;5;241m.\u001b[39m_accessors\n\u001b[0;32m   5572\u001b[0m     \u001b[38;5;129;01mand\u001b[39;00m \u001b[38;5;28mself\u001b[39m\u001b[38;5;241m.\u001b[39m_info_axis\u001b[38;5;241m.\u001b[39m_can_hold_identifiers_and_holds_name(name)\n\u001b[0;32m   5573\u001b[0m ):\n\u001b[0;32m   5574\u001b[0m     \u001b[38;5;28;01mreturn\u001b[39;00m \u001b[38;5;28mself\u001b[39m[name]\n\u001b[1;32m-> 5575\u001b[0m \u001b[38;5;28;01mreturn\u001b[39;00m \u001b[38;5;28;43mobject\u001b[39;49m\u001b[38;5;241;43m.\u001b[39;49m\u001b[38;5;21;43m__getattribute__\u001b[39;49m\u001b[43m(\u001b[49m\u001b[38;5;28;43mself\u001b[39;49m\u001b[43m,\u001b[49m\u001b[43m \u001b[49m\u001b[43mname\u001b[49m\u001b[43m)\u001b[49m\n",
      "\u001b[1;31mAttributeError\u001b[0m: 'Series' object has no attribute 'split'"
     ]
    }
   ],
   "source": [
    "#for y in NY_Evictions.executed_date:\n",
    "day, month, year = NY_Evictions['executed_date'].split('-')\n",
    "print(year)\n",
    "#NY_Evictions['executed_year']=NY_Evictions['executed_date'].max()\n",
    "#print(NY_Evictions[['executed_date','executed_year']])"
   ]
  },
  {
   "cell_type": "code",
   "execution_count": 11,
   "id": "84b16bc2",
   "metadata": {},
   "outputs": [],
   "source": [
    "##########################################\n",
    "#Step 3: Clean data\n",
    "##########################################"
   ]
  },
  {
   "cell_type": "code",
   "execution_count": 67,
   "id": "0f1f8dd2",
   "metadata": {},
   "outputs": [
    {
     "ename": "SyntaxError",
     "evalue": "invalid syntax (743497562.py, line 1)",
     "output_type": "error",
     "traceback": [
      "\u001b[1;36m  Input \u001b[1;32mIn [67]\u001b[1;36m\u001b[0m\n\u001b[1;33m    print(NY_Evictions['executed_date'].dtype;\u001b[0m\n\u001b[1;37m                                             ^\u001b[0m\n\u001b[1;31mSyntaxError\u001b[0m\u001b[1;31m:\u001b[0m invalid syntax\n"
     ]
    }
   ],
   "source": [
    "print(NY_Evictions['executed_date'].dtype\n",
    "#NY_Evictions['timestamp']= pd.to_datetime(NY_Evictions['executed_date'], format='%d%b%Y:%H:%M:%S.%f')\n",
    "print(NY_Evictions.head())"
   ]
  },
  {
   "cell_type": "code",
   "execution_count": 60,
   "id": "4c129bbf",
   "metadata": {},
   "outputs": [
    {
     "name": "stdout",
     "output_type": "stream",
     "text": [
      "council_district   1.0    2.0     3.0    4.0    5.0    6.0     7.0     8.0   \\\n",
      "borough                                                                       \n",
      "BRONX               NaN    NaN     NaN    NaN    NaN    NaN     NaN  1383.0   \n",
      "BROOKLYN            NaN    NaN     NaN    NaN    NaN    NaN     NaN     NaN   \n",
      "MANHATTAN         629.0  691.0  1395.0  660.0  590.0  461.0  1038.0   732.0   \n",
      "QUEENS              NaN    NaN     NaN    NaN    NaN    NaN     NaN     NaN   \n",
      "STATEN ISLAND       NaN    NaN     NaN    NaN    NaN    NaN     NaN     NaN   \n",
      "\n",
      "council_district    9.0     10.0  ...    42.0   43.0   44.0    45.0   46.0  \\\n",
      "borough                           ...                                        \n",
      "BRONX                2.0    10.0  ...     NaN    NaN    NaN     NaN    NaN   \n",
      "BROOKLYN             NaN     NaN  ...  2291.0  684.0  444.0  1619.0  974.0   \n",
      "MANHATTAN         2068.0  1589.0  ...     NaN    NaN    NaN     NaN    NaN   \n",
      "QUEENS               NaN     NaN  ...     NaN    NaN    NaN     NaN    NaN   \n",
      "STATEN ISLAND        NaN     NaN  ...     NaN    NaN    NaN     NaN    NaN   \n",
      "\n",
      "council_district   47.0   48.0    49.0   50.0   51.0  \n",
      "borough                                               \n",
      "BRONX               NaN    NaN     NaN    NaN    NaN  \n",
      "BROOKLYN          791.0  771.0     NaN    NaN    NaN  \n",
      "MANHATTAN           NaN    NaN     NaN    NaN    NaN  \n",
      "QUEENS              NaN    NaN     NaN    NaN    NaN  \n",
      "STATEN ISLAND       NaN    NaN  1279.0  330.0  187.0  \n",
      "\n",
      "[5 rows x 51 columns]\n"
     ]
    }
   ],
   "source": [
    "##########################################\n",
    "#Step 4: Manipulate data\n",
    "##########################################\n",
    "evictions_by_borough = NY_Evictions.pivot_table(values='docket_number',index='borough', columns = 'council_district',aggfunc='count',)\n",
    "print(evictions_by_borough)\n"
   ]
  },
  {
   "cell_type": "code",
   "execution_count": 13,
   "id": "ab872e33",
   "metadata": {},
   "outputs": [],
   "source": [
    "##########################################\n",
    "#Step 5: Graph data\n",
    "##########################################"
   ]
  },
  {
   "cell_type": "code",
   "execution_count": 49,
   "id": "d0b0737f",
   "metadata": {},
   "outputs": [
    {
     "data": {
      "image/png": "[encoded data removed]",
      "text/plain": [
       "<Figure size 842.4x595.44 with 1 Axes>"
      ]
     },
     "metadata": {},
     "output_type": "display_data"
    }
   ],
   "source": [
    "sns.set(rc={'figure.figsize':(11.7,8.27)})\n",
    "sns.kdeplot(x='longitude',y='latitude',data=NY_Evictions,hue='borough',fill=True)\n",
    "plt.show()"
   ]
  }
 ],
 "metadata": {
  "kernelspec": {
   "display_name": "Python 3 (ipykernel)",
   "language": "python",
   "name": "python3"
  },
  "language_info": {
   "codemirror_mode": {
    "name": "ipython",
    "version": 3
   },
   "file_extension": ".py",
   "mimetype": "text/x-python",
   "name": "python",
   "nbconvert_exporter": "python",
   "pygments_lexer": "ipython3",
   "version": "3.9.12"
  }
 },
 "nbformat": 4,
 "nbformat_minor": 5
}
