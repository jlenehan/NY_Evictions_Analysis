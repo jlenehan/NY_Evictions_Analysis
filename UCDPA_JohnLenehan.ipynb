{
 "cells": [
  {
   "cell_type": "code",
   "execution_count": 1,
   "id": "e45b76b4",
   "metadata": {},
   "outputs": [],
   "source": [
    "#Open source dataset - evictions in New York from 2017 to present \n",
    "#Source: https://data.cityofnewyork.us/City-Government/Evictions/6z8x-wfk4\n",
    "#(JSON: https://data.cityofnewyork.us/resource/6z8x-wfk4.json?$limit=100000)"
   ]
  },
  {
   "cell_type": "code",
   "execution_count": 2,
   "id": "ccbdc46f",
   "metadata": {},
   "outputs": [],
   "source": [
    "##########################################\n",
    "#Step 0: Import libraries\n",
    "##########################################\n",
    "import requests\n",
    "import pandas as pd\n",
    "from datetime import date\n",
    "import matplotlib.pyplot as plt\n",
    "import numpy as np\n",
    "#import geopandas as gpd\n",
    "import seaborn as sns\n",
    "from sqlalchemy import create_engine"
   ]
  },
  {
   "cell_type": "code",
   "execution_count": 3,
   "id": "273404cb",
   "metadata": {},
   "outputs": [],
   "source": [
    "##########################################\n",
    "#Step 1: Import data\n",
    "##########################################\n",
    "\n",
    "#Data is of evictions in New York from 2017 to present\n",
    "#Source: https://data.cityofnewyork.us/City-Government/Evictions/6z8x-wfk4"
   ]
  },
  {
   "cell_type": "code",
   "execution_count": 4,
   "id": "a2a752da",
   "metadata": {},
   "outputs": [],
   "source": [
    "##JSON METHOD\n",
    "\n",
    "#Set limit to 100,000 to capture all entries in json file\n",
    "#NY_Evictions_gross = pd.read_json(r'https://data.cityofnewyork.us/resource/6z8x-wfk4.json?$limit=100000')"
   ]
  },
  {
   "cell_type": "code",
   "execution_count": 27,
   "id": "d77f0790",
   "metadata": {},
   "outputs": [
    {
     "name": "stdout",
     "output_type": "stream",
     "text": [
      "  Court Index Number  Docket Number        Eviction Address  \\\n",
      "0            8029/18          343313  220 WEST 167TH STREET   \n",
      "1           74409/18           22777   145-02 ROCKAWAY BLVD   \n",
      "2           33073/18            3964     1950 BRYANT AVENUE   \n",
      "3           85137/17           76574      319 ELLERY STREET   \n",
      "4          58266/17B          475956     318-320 E. 151 ST.   \n",
      "\n",
      "  Eviction Apartment Number Executed Date Marshal First Name  \\\n",
      "0                       2-B    11/26/2018             Thomas   \n",
      "1                       NaN    05/28/2019             Edward   \n",
      "2                  BASEMENT    02/21/2019              Vadim   \n",
      "3                        3L    01/03/2018              Henry   \n",
      "4                        1C    01/17/2018              Danny   \n",
      "\n",
      "  Marshal Last Name Residential/Commercial   BOROUGH  Eviction Postcode  \\\n",
      "0               Bia            Residential     BRONX              10452   \n",
      "1             Guida            Residential    QUEENS              11436   \n",
      "2       Barbarovich            Residential     BRONX              10460   \n",
      "3             Daley            Residential  BROOKLYN              11206   \n",
      "4          Weinheim            Residential     BRONX              10451   \n",
      "\n",
      "          Ejectment Eviction/Legal Possession   Latitude  Longitude  \\\n",
      "0  Not an Ejectment                Possession  40.838482 -73.928014   \n",
      "1  Not an Ejectment                Possession  40.673648 -73.793525   \n",
      "2  Not an Ejectment                Possession  40.840341 -73.881849   \n",
      "3  Not an Ejectment                Possession  40.699967 -73.939202   \n",
      "4  Not an Ejectment                Possession  40.818303 -73.920210   \n",
      "\n",
      "   Community Board  Council District  Census Tract        BIN           BBL  \\\n",
      "0              4.0              16.0         193.0  2117215.0  2.025270e+09   \n",
      "1             12.0              28.0         790.0  4261974.0  4.120630e+09   \n",
      "2              6.0              17.0         359.0  2010894.0  2.030050e+09   \n",
      "3              4.0              34.0         389.0  3071703.0  3.031320e+09   \n",
      "4              1.0              17.0          65.0  2001838.0  2.024100e+09   \n",
      "\n",
      "                              NTA  \n",
      "0                      Highbridge  \n",
      "1                    Baisley Park  \n",
      "2                    East Tremont  \n",
      "3                  Bushwick South  \n",
      "4  Melrose South-Mott Haven North  \n"
     ]
    }
   ],
   "source": [
    "##CSV METHOD\n",
    "NY_Evictions_gross = pd.read_csv(r\"C:\\Users\\jlenehan\\OneDrive - Intel Corporation\\Documents\\0 - Data Science\\Intro to Data Analytics\\UCDPA_JohnLenehan\\UCDPA_JohnLenehan\\Evictions.csv\")\n",
    "print(NY_Evictions_gross.head(5))"
   ]
  },
  {
   "cell_type": "code",
   "execution_count": null,
   "id": "b39ba943",
   "metadata": {},
   "outputs": [],
   "source": [
    "##########################################\n",
    "#Step 2: Describe data\n",
    "##########################################"
   ]
  },
  {
   "cell_type": "code",
   "execution_count": 40,
   "id": "599373a2",
   "metadata": {},
   "outputs": [],
   "source": [
    "NY_Evictions = NY_Evictions_gross\n",
    "#[['court_index_number', 'docket_number', 'eviction_address',\n",
    " #      'eviction_apt_num', 'executed_date', 'marshal_first_name',\n",
    "  #     'marshal_last_name', 'residential_commercial_ind', 'borough',\n",
    "   #    'eviction_zip', 'ejectment', 'eviction_possession', 'community_board', 'council_district', 'census_tract',\n",
    "    #   'bin', 'bbl', 'nta']]"
   ]
  },
  {
   "cell_type": "code",
   "execution_count": 41,
   "id": "c56f5e5d",
   "metadata": {},
   "outputs": [
    {
     "name": "stdout",
     "output_type": "stream",
     "text": [
      "Index(['Court Index Number', 'Docket Number ', 'Eviction Address',\n",
      "       'Eviction Apartment Number', 'Executed Date', 'Marshal First Name',\n",
      "       'Marshal Last Name', 'Residential/Commercial', 'BOROUGH',\n",
      "       'Eviction Postcode', 'Ejectment', 'Eviction/Legal Possession',\n",
      "       'Latitude', 'Longitude', 'Community Board', 'Council District',\n",
      "       'Census Tract', 'BIN', 'BBL', 'NTA', 'Year', 'Marshal'],\n",
      "      dtype='object')\n"
     ]
    }
   ],
   "source": [
    "print(NY_Evictions.columns)"
   ]
  },
  {
   "cell_type": "code",
   "execution_count": 42,
   "id": "35027414",
   "metadata": {},
   "outputs": [
    {
     "name": "stdout",
     "output_type": "stream",
     "text": [
      "  Court Index Number  Docket Number        Eviction Address  \\\n",
      "0            8029/18          343313  220 WEST 167TH STREET   \n",
      "1           74409/18           22777   145-02 ROCKAWAY BLVD   \n",
      "2           33073/18            3964     1950 BRYANT AVENUE   \n",
      "3           85137/17           76574      319 ELLERY STREET   \n",
      "4          58266/17B          475956     318-320 E. 151 ST.   \n",
      "\n",
      "  Eviction Apartment Number Executed Date Marshal First Name  \\\n",
      "0                       2-B    2018-11-26             Thomas   \n",
      "1                       NaN    2019-05-28             Edward   \n",
      "2                  BASEMENT    2019-02-21              Vadim   \n",
      "3                        3L    2018-01-03              Henry   \n",
      "4                        1C    2018-01-17              Danny   \n",
      "\n",
      "  Marshal Last Name Residential/Commercial   BOROUGH  Eviction Postcode  ...  \\\n",
      "0               Bia            Residential     BRONX              10452  ...   \n",
      "1             Guida            Residential    QUEENS              11436  ...   \n",
      "2       Barbarovich            Residential     BRONX              10460  ...   \n",
      "3             Daley            Residential  BROOKLYN              11206  ...   \n",
      "4          Weinheim            Residential     BRONX              10451  ...   \n",
      "\n",
      "    Latitude  Longitude  Community Board  Council District  Census Tract  \\\n",
      "0  40.838482 -73.928014              4.0              16.0         193.0   \n",
      "1  40.673648 -73.793525             12.0              28.0         790.0   \n",
      "2  40.840341 -73.881849              6.0              17.0         359.0   \n",
      "3  40.699967 -73.939202              4.0              34.0         389.0   \n",
      "4  40.818303 -73.920210              1.0              17.0          65.0   \n",
      "\n",
      "         BIN           BBL                             NTA  Year  \\\n",
      "0  2117215.0  2.025270e+09                      Highbridge  2018   \n",
      "1  4261974.0  4.120630e+09                    Baisley Park  2019   \n",
      "2  2010894.0  2.030050e+09                    East Tremont  2019   \n",
      "3  3071703.0  3.031320e+09                  Bushwick South  2018   \n",
      "4  2001838.0  2.024100e+09  Melrose South-Mott Haven North  2018   \n",
      "\n",
      "             Marshal  \n",
      "0         Thomas Bia  \n",
      "1       Edward Guida  \n",
      "2  Vadim Barbarovich  \n",
      "3        Henry Daley  \n",
      "4     Danny Weinheim  \n",
      "\n",
      "[5 rows x 22 columns]\n"
     ]
    }
   ],
   "source": [
    "print(NY_Evictions.head())"
   ]
  },
  {
   "cell_type": "code",
   "execution_count": 43,
   "id": "6b573edf",
   "metadata": {},
   "outputs": [
    {
     "name": "stdout",
     "output_type": "stream",
     "text": [
      "       Docket Number   Eviction Postcode      Latitude     Longitude  \\\n",
      "count    70166.000000       70166.000000  63418.000000  63418.000000   \n",
      "mean    152621.121455       10794.114642     40.751723    -73.908298   \n",
      "std     147196.950665         519.241108      0.091144      0.068419   \n",
      "min          1.000000           0.000000     40.499050    -74.251262   \n",
      "25%      60322.750000       10454.000000     40.672157    -73.945088   \n",
      "50%      92436.000000       10473.000000     40.752391    -73.910000   \n",
      "75%     288142.750000       11229.000000     40.836407    -73.871685   \n",
      "max     496987.000000       12221.000000     40.911588    -73.701430   \n",
      "\n",
      "       Community Board  Council District   Census Tract           BIN  \\\n",
      "count     63418.000000      63418.000000   63418.000000  6.329000e+04   \n",
      "mean          8.002618         23.821991    8426.561686  2.705794e+06   \n",
      "std           4.576517         13.755295   21546.774078  1.116501e+06   \n",
      "min           1.000000          1.000000       1.000000  1.000000e+06   \n",
      "25%           4.000000         13.000000     197.000000  2.010545e+06   \n",
      "50%           8.000000         19.000000     379.000000  3.000000e+06   \n",
      "75%          12.000000         36.000000     966.000000  3.337942e+06   \n",
      "max          18.000000         51.000000  157903.000000  5.171959e+06   \n",
      "\n",
      "                BBL          Year  \n",
      "count  6.329000e+04  70166.000000  \n",
      "mean   2.629381e+09   2018.249081  \n",
      "std    1.063473e+09      1.237942  \n",
      "min    0.000000e+00   2017.000000  \n",
      "25%    2.028290e+09   2017.000000  \n",
      "50%    3.000368e+09   2018.000000  \n",
      "75%    3.072340e+09   2019.000000  \n",
      "max    5.080490e+09   2022.000000  \n"
     ]
    }
   ],
   "source": [
    "print(NY_Evictions.describe())"
   ]
  },
  {
   "cell_type": "code",
   "execution_count": 44,
   "id": "a5142bb1",
   "metadata": {
    "scrolled": true
   },
   "outputs": [
    {
     "name": "stdout",
     "output_type": "stream",
     "text": [
      "<class 'pandas.core.frame.DataFrame'>\n",
      "RangeIndex: 70166 entries, 0 to 70165\n",
      "Data columns (total 22 columns):\n",
      " #   Column                     Non-Null Count  Dtype         \n",
      "---  ------                     --------------  -----         \n",
      " 0   Court Index Number         70166 non-null  object        \n",
      " 1   Docket Number              70166 non-null  int64         \n",
      " 2   Eviction Address           70166 non-null  object        \n",
      " 3   Eviction Apartment Number  58391 non-null  object        \n",
      " 4   Executed Date              70166 non-null  datetime64[ns]\n",
      " 5   Marshal First Name         70166 non-null  object        \n",
      " 6   Marshal Last Name          70166 non-null  object        \n",
      " 7   Residential/Commercial     70166 non-null  object        \n",
      " 8   BOROUGH                    70166 non-null  object        \n",
      " 9   Eviction Postcode          70166 non-null  int64         \n",
      " 10  Ejectment                  70166 non-null  object        \n",
      " 11  Eviction/Legal Possession  70166 non-null  object        \n",
      " 12  Latitude                   63418 non-null  float64       \n",
      " 13  Longitude                  63418 non-null  float64       \n",
      " 14  Community Board            63418 non-null  float64       \n",
      " 15  Council District           63418 non-null  float64       \n",
      " 16  Census Tract               63418 non-null  float64       \n",
      " 17  BIN                        63290 non-null  float64       \n",
      " 18  BBL                        63290 non-null  float64       \n",
      " 19  NTA                        63418 non-null  object        \n",
      " 20  Year                       70166 non-null  int64         \n",
      " 21  Marshal                    70166 non-null  object        \n",
      "dtypes: datetime64[ns](1), float64(7), int64(3), object(11)\n",
      "memory usage: 11.8+ MB\n",
      "None\n"
     ]
    }
   ],
   "source": [
    "print(NY_Evictions.info())"
   ]
  },
  {
   "cell_type": "code",
   "execution_count": null,
   "id": "84b16bc2",
   "metadata": {},
   "outputs": [],
   "source": [
    "##########################################\n",
    "#Step 3: Clean data\n",
    "##########################################"
   ]
  },
  {
   "cell_type": "code",
   "execution_count": 45,
   "id": "98b7119b",
   "metadata": {
    "scrolled": true
   },
   "outputs": [
    {
     "name": "stdout",
     "output_type": "stream",
     "text": [
      "  Court Index Number  Docket Number        Eviction Address  \\\n",
      "0            8029/18          343313  220 WEST 167TH STREET   \n",
      "1           74409/18           22777   145-02 ROCKAWAY BLVD   \n",
      "2           33073/18            3964     1950 BRYANT AVENUE   \n",
      "3           85137/17           76574      319 ELLERY STREET   \n",
      "4          58266/17B          475956     318-320 E. 151 ST.   \n",
      "\n",
      "  Eviction Apartment Number Executed Date Marshal First Name  \\\n",
      "0                       2-B    2018-11-26             Thomas   \n",
      "1                       NaN    2019-05-28             Edward   \n",
      "2                  BASEMENT    2019-02-21              Vadim   \n",
      "3                        3L    2018-01-03              Henry   \n",
      "4                        1C    2018-01-17              Danny   \n",
      "\n",
      "  Marshal Last Name Residential/Commercial   BOROUGH  Eviction Postcode  ...  \\\n",
      "0               Bia            Residential     BRONX              10452  ...   \n",
      "1             Guida            Residential    QUEENS              11436  ...   \n",
      "2       Barbarovich            Residential     BRONX              10460  ...   \n",
      "3             Daley            Residential  BROOKLYN              11206  ...   \n",
      "4          Weinheim            Residential     BRONX              10451  ...   \n",
      "\n",
      "    Latitude  Longitude  Community Board  Council District  Census Tract  \\\n",
      "0  40.838482 -73.928014              4.0              16.0         193.0   \n",
      "1  40.673648 -73.793525             12.0              28.0         790.0   \n",
      "2  40.840341 -73.881849              6.0              17.0         359.0   \n",
      "3  40.699967 -73.939202              4.0              34.0         389.0   \n",
      "4  40.818303 -73.920210              1.0              17.0          65.0   \n",
      "\n",
      "         BIN           BBL                             NTA  Year  \\\n",
      "0  2117215.0  2.025270e+09                      Highbridge  2018   \n",
      "1  4261974.0  4.120630e+09                    Baisley Park  2019   \n",
      "2  2010894.0  2.030050e+09                    East Tremont  2019   \n",
      "3  3071703.0  3.031320e+09                  Bushwick South  2018   \n",
      "4  2001838.0  2.024100e+09  Melrose South-Mott Haven North  2018   \n",
      "\n",
      "             Marshal  \n",
      "0         Thomas Bia  \n",
      "1       Edward Guida  \n",
      "2  Vadim Barbarovich  \n",
      "3        Henry Daley  \n",
      "4     Danny Weinheim  \n",
      "\n",
      "[5 rows x 22 columns]\n"
     ]
    }
   ],
   "source": [
    "#ADDING YEAR INFO\n",
    "#NOTE JSON COLUMNS WILL NEED TO BE CHANGED\n",
    "\n",
    "NY_Evictions['Executed Date']=pd.to_datetime(NY_Evictions['Executed Date'])\n",
    "NY_Evictions['Year']=pd.DatetimeIndex(NY_Evictions['Executed Date']).year\n",
    "print(NY_Evictions.head(5))"
   ]
  },
  {
   "cell_type": "code",
   "execution_count": 35,
   "id": "a29679fb",
   "metadata": {},
   "outputs": [
    {
     "name": "stdout",
     "output_type": "stream",
     "text": [
      "  Court Index Number  Docket Number        Eviction Address  \\\n",
      "0            8029/18          343313  220 WEST 167TH STREET   \n",
      "1           74409/18           22777   145-02 ROCKAWAY BLVD   \n",
      "2           33073/18            3964     1950 BRYANT AVENUE   \n",
      "3           85137/17           76574      319 ELLERY STREET   \n",
      "4          58266/17B          475956     318-320 E. 151 ST.   \n",
      "\n",
      "  Eviction Apartment Number Executed Date Marshal First Name  \\\n",
      "0                       2-B    2018-11-26             Thomas   \n",
      "1                       NaN    2019-05-28             Edward   \n",
      "2                  BASEMENT    2019-02-21              Vadim   \n",
      "3                        3L    2018-01-03              Henry   \n",
      "4                        1C    2018-01-17              Danny   \n",
      "\n",
      "  Marshal Last Name Residential/Commercial   BOROUGH  Eviction Postcode  ...  \\\n",
      "0               Bia            Residential     BRONX              10452  ...   \n",
      "1             Guida            Residential    QUEENS              11436  ...   \n",
      "2       Barbarovich            Residential     BRONX              10460  ...   \n",
      "3             Daley            Residential  BROOKLYN              11206  ...   \n",
      "4          Weinheim            Residential     BRONX              10451  ...   \n",
      "\n",
      "    Latitude  Longitude  Community Board  Council District  Census Tract  \\\n",
      "0  40.838482 -73.928014              4.0              16.0         193.0   \n",
      "1  40.673648 -73.793525             12.0              28.0         790.0   \n",
      "2  40.840341 -73.881849              6.0              17.0         359.0   \n",
      "3  40.699967 -73.939202              4.0              34.0         389.0   \n",
      "4  40.818303 -73.920210              1.0              17.0          65.0   \n",
      "\n",
      "         BIN           BBL                             NTA  Year  \\\n",
      "0  2117215.0  2.025270e+09                      Highbridge  2018   \n",
      "1  4261974.0  4.120630e+09                    Baisley Park  2019   \n",
      "2  2010894.0  2.030050e+09                    East Tremont  2019   \n",
      "3  3071703.0  3.031320e+09                  Bushwick South  2018   \n",
      "4  2001838.0  2.024100e+09  Melrose South-Mott Haven North  2018   \n",
      "\n",
      "             Marshal  \n",
      "0         Thomas Bia  \n",
      "1       Edward Guida  \n",
      "2  Vadim Barbarovich  \n",
      "3        Henry Daley  \n",
      "4     Danny Weinheim  \n",
      "\n",
      "[5 rows x 22 columns]\n"
     ]
    }
   ],
   "source": [
    "#CONCATENATING MARSHAL NAMES\n",
    "NY_Evictions['Marshal']=NY_Evictions['Marshal First Name']+' '+NY_Evictions['Marshal Last Name']\n",
    "print(NY_Evictions.head())"
   ]
  },
  {
   "cell_type": "code",
   "execution_count": 46,
   "id": "e5e2e356",
   "metadata": {},
   "outputs": [
    {
     "data": {
      "text/plain": [
       "Index(['Court Index Number', 'Docket Number ', 'Eviction Address',\n",
       "       'Eviction Apartment Number', 'Executed Date', 'Marshal First Name',\n",
       "       'Marshal Last Name', 'Residential/Commercial', 'BOROUGH',\n",
       "       'Eviction Postcode', 'Ejectment', 'Eviction/Legal Possession',\n",
       "       'Latitude', 'Longitude', 'Community Board', 'Council District',\n",
       "       'Census Tract', 'BIN', 'BBL', 'NTA', 'Year', 'Marshal'],\n",
       "      dtype='object')"
      ]
     },
     "execution_count": 46,
     "metadata": {},
     "output_type": "execute_result"
    }
   ],
   "source": [
    "NY_Evictions.columns"
   ]
  },
  {
   "cell_type": "code",
   "execution_count": 47,
   "id": "171087d3",
   "metadata": {},
   "outputs": [
    {
     "name": "stdout",
     "output_type": "stream",
     "text": [
      "  Court Index Number  Docket Number        Eviction Address  \\\n",
      "0            8029/18          343313  220 WEST 167TH STREET   \n",
      "1           74409/18           22777   145-02 ROCKAWAY BLVD   \n",
      "2           33073/18            3964     1950 BRYANT AVENUE   \n",
      "3           85137/17           76574      319 ELLERY STREET   \n",
      "4          58266/17B          475956     318-320 E. 151 ST.   \n",
      "\n",
      "  Eviction Apartment Number Executed Date  Year            Marshal  \\\n",
      "0                       2-B    2018-11-26  2018         Thomas Bia   \n",
      "1                       NaN    2019-05-28  2019       Edward Guida   \n",
      "2                  BASEMENT    2019-02-21  2019  Vadim Barbarovich   \n",
      "3                        3L    2018-01-03  2018        Henry Daley   \n",
      "4                        1C    2018-01-17  2018     Danny Weinheim   \n",
      "\n",
      "  Residential/Commercial   BOROUGH  Eviction Postcode         Ejectment  \\\n",
      "0            Residential     BRONX              10452  Not an Ejectment   \n",
      "1            Residential    QUEENS              11436  Not an Ejectment   \n",
      "2            Residential     BRONX              10460  Not an Ejectment   \n",
      "3            Residential  BROOKLYN              11206  Not an Ejectment   \n",
      "4            Residential     BRONX              10451  Not an Ejectment   \n",
      "\n",
      "  Eviction/Legal Possession   Latitude  Longitude  Community Board  \\\n",
      "0                Possession  40.838482 -73.928014              4.0   \n",
      "1                Possession  40.673648 -73.793525             12.0   \n",
      "2                Possession  40.840341 -73.881849              6.0   \n",
      "3                Possession  40.699967 -73.939202              4.0   \n",
      "4                Possession  40.818303 -73.920210              1.0   \n",
      "\n",
      "   Council District  Census Tract        BIN           BBL  \\\n",
      "0              16.0         193.0  2117215.0  2.025270e+09   \n",
      "1              28.0         790.0  4261974.0  4.120630e+09   \n",
      "2              17.0         359.0  2010894.0  2.030050e+09   \n",
      "3              34.0         389.0  3071703.0  3.031320e+09   \n",
      "4              17.0          65.0  2001838.0  2.024100e+09   \n",
      "\n",
      "                              NTA  \n",
      "0                      Highbridge  \n",
      "1                    Baisley Park  \n",
      "2                    East Tremont  \n",
      "3                  Bushwick South  \n",
      "4  Melrose South-Mott Haven North  \n"
     ]
    }
   ],
   "source": [
    "NY_Evictions = NY_Evictions[['Court Index Number', 'Docket Number ', 'Eviction Address',\n",
    "       'Eviction Apartment Number', 'Executed Date','Year', 'Marshal','Residential/Commercial', 'BOROUGH',\n",
    "       'Eviction Postcode', 'Ejectment', 'Eviction/Legal Possession',\n",
    "       'Latitude', 'Longitude', 'Community Board', 'Council District',\n",
    "       'Census Tract', 'BIN', 'BBL', 'NTA',]]\n",
    "print(NY_Evictions.head())"
   ]
  },
  {
   "cell_type": "code",
   "execution_count": null,
   "id": "4c129bbf",
   "metadata": {},
   "outputs": [],
   "source": [
    "##########################################\n",
    "#Step 4: Manipulate data\n",
    "##########################################\n",
    "evictions_by_borough = NY_Evictions.pivot_table(values='docket_number',index='borough', columns = 'council_district',aggfunc='count',)\n",
    "print(evictions_by_borough)\n"
   ]
  },
  {
   "cell_type": "code",
   "execution_count": null,
   "id": "ab872e33",
   "metadata": {},
   "outputs": [],
   "source": [
    "##########################################\n",
    "#Step 5: Graph data\n",
    "##########################################"
   ]
  },
  {
   "cell_type": "code",
   "execution_count": null,
   "id": "a14317a2",
   "metadata": {},
   "outputs": [],
   "source": [
    "sns.set(rc={'figure.figsize':(11.7,8.27)})\n",
    "sns.kdeplot(x='longitude',y='latitude',data=NY_Evictions,hue='borough',fill=True)\n",
    "plt.show()"
   ]
  }
 ],
 "metadata": {
  "kernelspec": {
   "display_name": "Python 3 (ipykernel)",
   "language": "python",
   "name": "python3"
  },
  "language_info": {
   "codemirror_mode": {
    "name": "ipython",
    "version": 3
   },
   "file_extension": ".py",
   "mimetype": "text/x-python",
   "name": "python",
   "nbconvert_exporter": "python",
   "pygments_lexer": "ipython3",
   "version": "3.9.12"
  }
 },
 "nbformat": 4,
 "nbformat_minor": 5
}
