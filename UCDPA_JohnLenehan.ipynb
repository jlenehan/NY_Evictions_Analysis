{
 "cells": [
  {
   "cell_type": "code",
   "execution_count": null,
   "id": "e45b76b4",
   "metadata": {},
   "outputs": [],
   "source": [
    "#Open source dataset - New York Citywide Payroll Data (JSON: https://data.cityofnewyork.us/resource/k397-673e.json)\n",
    "#Keep all data stored in single location for upload\n",
    "#"
   ]
  },
  {
   "cell_type": "code",
   "execution_count": 2,
   "id": "ccbdc46f",
   "metadata": {},
   "outputs": [],
   "source": [
    "##########################################\n",
    "#Step 0: Import libraries\n",
    "##########################################\n",
    "import requests\n",
    "import pandas as pd\n",
    "import numpy as np\n",
    "import seaborn as sns"
   ]
  },
  {
   "cell_type": "code",
   "execution_count": null,
   "id": "273404cb",
   "metadata": {},
   "outputs": [],
   "source": [
    "##########################################\n",
    "#Step 1: Import data\n",
    "##########################################\n",
    "\n",
    "#Data is of municipal payroll data for the city of New York, from 2014 to 2021\n",
    "#Notes:\n",
    "#regular_hours - hours worked that fiscal year; doesn't include overtime\n",
    "#base_salary - could be wages or salary depending on pay_basis column"
   ]
  },
  {
   "cell_type": "code",
   "execution_count": null,
   "id": "b39ba943",
   "metadata": {},
   "outputs": [],
   "source": [
    "##########################################\n",
    "#Step 2: Describe data\n",
    "##########################################"
   ]
  },
  {
   "cell_type": "code",
   "execution_count": null,
   "id": "84b16bc2",
   "metadata": {},
   "outputs": [],
   "source": [
    "##########################################\n",
    "#Step 3: Clean data\n",
    "##########################################"
   ]
  },
  {
   "cell_type": "code",
   "execution_count": null,
   "id": "4c129bbf",
   "metadata": {},
   "outputs": [],
   "source": [
    "##########################################\n",
    "#Step 4: Manipulate data\n",
    "##########################################"
   ]
  },
  {
   "cell_type": "code",
   "execution_count": null,
   "id": "ab872e33",
   "metadata": {},
   "outputs": [],
   "source": [
    "##########################################\n",
    "#Step 5: Graph data\n",
    "##########################################"
   ]
  }
 ],
 "metadata": {
  "kernelspec": {
   "display_name": "Python 3 (ipykernel)",
   "language": "python",
   "name": "python3"
  },
  "language_info": {
   "codemirror_mode": {
    "name": "ipython",
    "version": 3
   },
   "file_extension": ".py",
   "mimetype": "text/x-python",
   "name": "python",
   "nbconvert_exporter": "python",
   "pygments_lexer": "ipython3",
   "version": "3.9.12"
  }
 },
 "nbformat": 4,
 "nbformat_minor": 5
}
