{
 "cells": [
  {
   "cell_type": "code",
   "execution_count": null,
   "id": "e45b76b4",
   "metadata": {},
   "outputs": [],
   "source": [
    "#Open source dataset - New York Citywide Payroll Data (JSON: https://data.cityofnewyork.us/resource/k397-673e.json)\n",
    "#Keep all data stored in single location for upload\n",
    "#"
   ]
  },
  {
   "cell_type": "code",
   "execution_count": 25,
   "id": "ccbdc46f",
   "metadata": {},
   "outputs": [
    {
     "ename": "ModuleNotFoundError",
     "evalue": "No module named 'sodapy'",
     "output_type": "error",
     "traceback": [
      "\u001b[1;31m---------------------------------------------------------------------------\u001b[0m",
      "\u001b[1;31mModuleNotFoundError\u001b[0m                       Traceback (most recent call last)",
      "Input \u001b[1;32mIn [25]\u001b[0m, in \u001b[0;36m<cell line: 6>\u001b[1;34m()\u001b[0m\n\u001b[0;32m      4\u001b[0m \u001b[38;5;28;01mimport\u001b[39;00m \u001b[38;5;21;01mrequests\u001b[39;00m\n\u001b[0;32m      5\u001b[0m \u001b[38;5;28;01mimport\u001b[39;00m \u001b[38;5;21;01mpandas\u001b[39;00m \u001b[38;5;28;01mas\u001b[39;00m \u001b[38;5;21;01mpd\u001b[39;00m\n\u001b[1;32m----> 6\u001b[0m \u001b[38;5;28;01mfrom\u001b[39;00m \u001b[38;5;21;01msodapy\u001b[39;00m \u001b[38;5;28;01mimport\u001b[39;00m Socrata\n\u001b[0;32m      7\u001b[0m \u001b[38;5;28;01mimport\u001b[39;00m \u001b[38;5;21;01mnumpy\u001b[39;00m \u001b[38;5;28;01mas\u001b[39;00m \u001b[38;5;21;01mnp\u001b[39;00m\n\u001b[0;32m      8\u001b[0m \u001b[38;5;28;01mimport\u001b[39;00m \u001b[38;5;21;01mseaborn\u001b[39;00m \u001b[38;5;28;01mas\u001b[39;00m \u001b[38;5;21;01msns\u001b[39;00m\n",
      "\u001b[1;31mModuleNotFoundError\u001b[0m: No module named 'sodapy'"
     ]
    }
   ],
   "source": [
    "##########################################\n",
    "#Step 0: Import libraries\n",
    "##########################################\n",
    "import requests\n",
    "import pandas as pd\n",
    "import numpy as np\n",
    "import seaborn as sns"
   ]
  },
  {
   "cell_type": "code",
   "execution_count": null,
   "id": "273404cb",
   "metadata": {},
   "outputs": [],
   "source": [
    "##########################################\n",
    "#Step 1: Import data\n",
    "##########################################\n",
    "\n",
    "#Data is of evictions in New York from 2017 to present"
   ]
  },
  {
   "cell_type": "code",
   "execution_count": 31,
   "id": "36c1839b",
   "metadata": {},
   "outputs": [],
   "source": [
    "NY_Evictions_gross = pd.read_json(r'https://data.cityofnewyork.us/resource/6z8x-wfk4.json?$limit=100000')"
   ]
  },
  {
   "cell_type": "code",
   "execution_count": null,
   "id": "b39ba943",
   "metadata": {},
   "outputs": [],
   "source": [
    "##########################################\n",
    "#Step 2: Describe data\n",
    "##########################################"
   ]
  },
  {
   "cell_type": "code",
   "execution_count": 34,
   "id": "d80f7459",
   "metadata": {},
   "outputs": [
    {
     "name": "stdout",
     "output_type": "stream",
     "text": [
      "Index(['court_index_number', 'docket_number', 'eviction_address',\n",
      "       'eviction_apt_num', 'executed_date', 'marshal_first_name',\n",
      "       'marshal_last_name', 'residential_commercial_ind', 'borough',\n",
      "       'eviction_zip', 'ejectment', 'eviction_possession', 'latitude',\n",
      "       'longitude', 'community_board', 'council_district', 'census_tract',\n",
      "       'bin', 'bbl', 'nta'],\n",
      "      dtype='object')\n",
      "  court_index_number  docket_number       eviction_address eviction_apt_num  \\\n",
      "0            8029/18         343313  220 WEST 167TH STREET              2-B   \n",
      "1           74409/18          22777   145-02 ROCKAWAY BLVD              NaN   \n",
      "2           33073/18           3964     1950 BRYANT AVENUE         BASEMENT   \n",
      "3           85137/17          76574      319 ELLERY STREET               3L   \n",
      "4          58266/17B         475956     318-320 E. 151 ST.               1C   \n",
      "\n",
      "             executed_date marshal_first_name marshal_last_name  \\\n",
      "0  2018-11-26T00:00:00.000             Thomas               Bia   \n",
      "1  2019-05-28T00:00:00.000             Edward             Guida   \n",
      "2  2019-02-21T00:00:00.000              Vadim       Barbarovich   \n",
      "3  2018-01-03T00:00:00.000              Henry             Daley   \n",
      "4  2018-01-17T00:00:00.000              Danny          Weinheim   \n",
      "\n",
      "  residential_commercial_ind   borough  eviction_zip         ejectment  \\\n",
      "0                Residential     BRONX         10452  Not an Ejectment   \n",
      "1                Residential    QUEENS         11436  Not an Ejectment   \n",
      "2                Residential     BRONX         10460  Not an Ejectment   \n",
      "3                Residential  BROOKLYN         11206  Not an Ejectment   \n",
      "4                Residential     BRONX         10451  Not an Ejectment   \n",
      "\n",
      "  eviction_possession   latitude  longitude  community_board  \\\n",
      "0          Possession  40.838482 -73.928014              4.0   \n",
      "1          Possession  40.673648 -73.793525             12.0   \n",
      "2          Possession  40.840341 -73.881849              6.0   \n",
      "3          Possession  40.699967 -73.939202              4.0   \n",
      "4          Possession  40.818303 -73.920210              1.0   \n",
      "\n",
      "   council_district  census_tract        bin           bbl  \\\n",
      "0              16.0         193.0  2117215.0  2.025270e+09   \n",
      "1              28.0         790.0  4261974.0  4.120630e+09   \n",
      "2              17.0         359.0  2010894.0  2.030050e+09   \n",
      "3              34.0         389.0  3071703.0  3.031320e+09   \n",
      "4              17.0          65.0  2001838.0  2.024100e+09   \n",
      "\n",
      "                              nta  \n",
      "0                      Highbridge  \n",
      "1                    Baisley Park  \n",
      "2                    East Tremont  \n",
      "3                  Bushwick South  \n",
      "4  Melrose South-Mott Haven North  \n",
      "<class 'pandas.core.frame.DataFrame'>\n",
      "RangeIndex: 70166 entries, 0 to 70165\n",
      "Data columns (total 20 columns):\n",
      " #   Column                      Non-Null Count  Dtype  \n",
      "---  ------                      --------------  -----  \n",
      " 0   court_index_number          70166 non-null  object \n",
      " 1   docket_number               70166 non-null  int64  \n",
      " 2   eviction_address            70166 non-null  object \n",
      " 3   eviction_apt_num            58445 non-null  object \n",
      " 4   executed_date               70166 non-null  object \n",
      " 5   marshal_first_name          70166 non-null  object \n",
      " 6   marshal_last_name           70166 non-null  object \n",
      " 7   residential_commercial_ind  70166 non-null  object \n",
      " 8   borough                     70166 non-null  object \n",
      " 9   eviction_zip                70166 non-null  int64  \n",
      " 10  ejectment                   70166 non-null  object \n",
      " 11  eviction_possession         70166 non-null  object \n",
      " 12  latitude                    63418 non-null  float64\n",
      " 13  longitude                   63418 non-null  float64\n",
      " 14  community_board             63418 non-null  float64\n",
      " 15  council_district            63418 non-null  float64\n",
      " 16  census_tract                63418 non-null  float64\n",
      " 17  bin                         63290 non-null  float64\n",
      " 18  bbl                         63290 non-null  float64\n",
      " 19  nta                         63418 non-null  object \n",
      "dtypes: float64(7), int64(2), object(11)\n",
      "memory usage: 10.7+ MB\n",
      "None\n"
     ]
    }
   ],
   "source": [
    "print(NY_Evictions_gross.columns)\n",
    "print(NY_Evictions_gross.head(5))\n",
    "print(NY_Evictions_gross.info())\n",
    "\n",
    "NY_Evictions = NY_Evictions_gross[['court_index_number', 'docket_number', 'eviction_address',\n",
    "       'eviction_apt_num', 'executed_date', 'marshal_first_name',\n",
    "       'marshal_last_name', 'residential_commercial_ind', 'borough',\n",
    "       'eviction_zip', 'ejectment', 'eviction_possession', 'latitude',\n",
    "       'longitude', 'community_board', 'council_district', 'census_tract',\n",
    "       'bin', 'bbl', 'nta']]\n",
    "\n",
    "#print(NY_Evictions.head())\n",
    "#print(NY_Evictions.describe())\n",
    "#print(NY_Evictions.info())"
   ]
  },
  {
   "cell_type": "code",
   "execution_count": null,
   "id": "84b16bc2",
   "metadata": {},
   "outputs": [],
   "source": [
    "##########################################\n",
    "#Step 3: Clean data\n",
    "##########################################"
   ]
  },
  {
   "cell_type": "code",
   "execution_count": null,
   "id": "4c129bbf",
   "metadata": {},
   "outputs": [],
   "source": [
    "##########################################\n",
    "#Step 4: Manipulate data\n",
    "##########################################"
   ]
  },
  {
   "cell_type": "code",
   "execution_count": null,
   "id": "ab872e33",
   "metadata": {},
   "outputs": [],
   "source": [
    "##########################################\n",
    "#Step 5: Graph data\n",
    "##########################################"
   ]
  }
 ],
 "metadata": {
  "kernelspec": {
   "display_name": "Python 3 (ipykernel)",
   "language": "python",
   "name": "python3"
  },
  "language_info": {
   "codemirror_mode": {
    "name": "ipython",
    "version": 3
   },
   "file_extension": ".py",
   "mimetype": "text/x-python",
   "name": "python",
   "nbconvert_exporter": "python",
   "pygments_lexer": "ipython3",
   "version": "3.9.12"
  }
 },
 "nbformat": 4,
 "nbformat_minor": 5
}
