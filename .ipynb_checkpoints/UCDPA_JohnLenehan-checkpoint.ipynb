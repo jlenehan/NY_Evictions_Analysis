{
 "cells": [
  {
   "cell_type": "code",
   "execution_count": 1,
   "id": "e45b76b4",
   "metadata": {},
   "outputs": [],
   "source": [
    "#Open source dataset - New York Citywide Payroll Data (JSON: https://data.cityofnewyork.us/resource/k397-673e.json)\n",
    "#Keep all data stored in single location for upload\n",
    "#"
   ]
  },
  {
   "cell_type": "code",
   "execution_count": 14,
   "id": "ccbdc46f",
   "metadata": {},
   "outputs": [],
   "source": [
    "##########################################\n",
    "#Step 0: Import libraries\n",
    "##########################################\n",
    "import requests\n",
    "import pandas as pd\n",
    "import matplotlib.pyplot as plt\n",
    "#import geopandas as gpd\n",
    "import seaborn as sns"
   ]
  },
  {
   "cell_type": "code",
   "execution_count": 15,
   "id": "273404cb",
   "metadata": {},
   "outputs": [],
   "source": [
    "##########################################\n",
    "#Step 1: Import data\n",
    "##########################################\n",
    "\n",
    "#Data is of evictions in New York from 2017 to present"
   ]
  },
  {
   "cell_type": "code",
   "execution_count": 16,
   "id": "983b7d5e",
   "metadata": {},
   "outputs": [],
   "source": [
    "NY_Evictions_gross = pd.read_json(r'https://data.cityofnewyork.us/resource/6z8x-wfk4.json?$limit=100000')"
   ]
  },
  {
   "cell_type": "code",
   "execution_count": 17,
   "id": "b39ba943",
   "metadata": {},
   "outputs": [],
   "source": [
    "##########################################\n",
    "#Step 2: Describe data\n",
    "##########################################"
   ]
  },
  {
   "cell_type": "code",
   "execution_count": 21,
   "id": "fc960ffd",
   "metadata": {},
   "outputs": [
    {
     "name": "stdout",
     "output_type": "stream",
     "text": [
      "Index(['court_index_number', 'docket_number', 'eviction_address',\n",
      "       'eviction_apt_num', 'executed_date', 'marshal_first_name',\n",
      "       'marshal_last_name', 'residential_commercial_ind', 'borough',\n",
      "       'eviction_zip', 'ejectment', 'eviction_possession', 'latitude',\n",
      "       'longitude', 'community_board', 'council_district', 'census_tract',\n",
      "       'bin', 'bbl', 'nta'],\n",
      "      dtype='object')\n"
     ]
    }
   ],
   "source": [
    "print(NY_Evictions_gross.columns)"
   ]
  },
  {
   "cell_type": "code",
   "execution_count": 19,
   "id": "46974cf5",
   "metadata": {},
   "outputs": [],
   "source": [
    "NY_Evictions = NY_Evictions_gross\n",
    "#[['court_index_number', 'docket_number', 'eviction_address',\n",
    " #      'eviction_apt_num', 'executed_date', 'marshal_first_name',\n",
    "  #     'marshal_last_name', 'residential_commercial_ind', 'borough',\n",
    "   #    'eviction_zip', 'ejectment', 'eviction_possession', 'community_board', 'council_district', 'census_tract',\n",
    "    #   'bin', 'bbl', 'nta']]"
   ]
  },
  {
   "cell_type": "code",
   "execution_count": 8,
   "id": "99da3357",
   "metadata": {},
   "outputs": [
    {
     "name": "stdout",
     "output_type": "stream",
     "text": [
      "  court_index_number  docket_number       eviction_address eviction_apt_num  \\\n",
      "0            8029/18         343313  220 WEST 167TH STREET              2-B   \n",
      "1           74409/18          22777   145-02 ROCKAWAY BLVD              NaN   \n",
      "2           33073/18           3964     1950 BRYANT AVENUE         BASEMENT   \n",
      "3           85137/17          76574      319 ELLERY STREET               3L   \n",
      "4          58266/17B         475956     318-320 E. 151 ST.               1C   \n",
      "\n",
      "             executed_date marshal_first_name marshal_last_name  \\\n",
      "0  2018-11-26T00:00:00.000             Thomas               Bia   \n",
      "1  2019-05-28T00:00:00.000             Edward             Guida   \n",
      "2  2019-02-21T00:00:00.000              Vadim       Barbarovich   \n",
      "3  2018-01-03T00:00:00.000              Henry             Daley   \n",
      "4  2018-01-17T00:00:00.000              Danny          Weinheim   \n",
      "\n",
      "  residential_commercial_ind   borough  eviction_zip         ejectment  \\\n",
      "0                Residential     BRONX         10452  Not an Ejectment   \n",
      "1                Residential    QUEENS         11436  Not an Ejectment   \n",
      "2                Residential     BRONX         10460  Not an Ejectment   \n",
      "3                Residential  BROOKLYN         11206  Not an Ejectment   \n",
      "4                Residential     BRONX         10451  Not an Ejectment   \n",
      "\n",
      "  eviction_possession   latitude  longitude  community_board  \\\n",
      "0          Possession  40.838482 -73.928014              4.0   \n",
      "1          Possession  40.673648 -73.793525             12.0   \n",
      "2          Possession  40.840341 -73.881849              6.0   \n",
      "3          Possession  40.699967 -73.939202              4.0   \n",
      "4          Possession  40.818303 -73.920210              1.0   \n",
      "\n",
      "   council_district  census_tract        bin           bbl  \\\n",
      "0              16.0         193.0  2117215.0  2.025270e+09   \n",
      "1              28.0         790.0  4261974.0  4.120630e+09   \n",
      "2              17.0         359.0  2010894.0  2.030050e+09   \n",
      "3              34.0         389.0  3071703.0  3.031320e+09   \n",
      "4              17.0          65.0  2001838.0  2.024100e+09   \n",
      "\n",
      "                              nta  \n",
      "0                      Highbridge  \n",
      "1                    Baisley Park  \n",
      "2                    East Tremont  \n",
      "3                  Bushwick South  \n",
      "4  Melrose South-Mott Haven North  \n"
     ]
    }
   ],
   "source": [
    "print(NY_Evictions.head())"
   ]
  },
  {
   "cell_type": "code",
   "execution_count": 22,
   "id": "24aff9e8",
   "metadata": {},
   "outputs": [
    {
     "name": "stdout",
     "output_type": "stream",
     "text": [
      "       docket_number  eviction_zip      latitude     longitude  \\\n",
      "count   70166.000000  70166.000000  63418.000000  63418.000000   \n",
      "mean   152621.121455  10794.114642     40.751723    -73.908298   \n",
      "std    147196.950665    519.241108      0.091144      0.068419   \n",
      "min         1.000000      0.000000     40.499050    -74.251262   \n",
      "25%     60322.750000  10454.000000     40.672157    -73.945088   \n",
      "50%     92436.000000  10473.000000     40.752391    -73.910000   \n",
      "75%    288142.750000  11229.000000     40.836407    -73.871685   \n",
      "max    496987.000000  12221.000000     40.911588    -73.701430   \n",
      "\n",
      "       community_board  council_district   census_tract           bin  \\\n",
      "count     63418.000000      63418.000000   63418.000000  6.329000e+04   \n",
      "mean          8.002618         23.821991    8426.561686  2.705794e+06   \n",
      "std           4.576517         13.755295   21546.774078  1.116501e+06   \n",
      "min           1.000000          1.000000       1.000000  1.000000e+06   \n",
      "25%           4.000000         13.000000     197.000000  2.010545e+06   \n",
      "50%           8.000000         19.000000     379.000000  3.000000e+06   \n",
      "75%          12.000000         36.000000     966.000000  3.337942e+06   \n",
      "max          18.000000         51.000000  157903.000000  5.171959e+06   \n",
      "\n",
      "                bbl  \n",
      "count  6.329000e+04  \n",
      "mean   2.629381e+09  \n",
      "std    1.063473e+09  \n",
      "min    0.000000e+00  \n",
      "25%    2.028290e+09  \n",
      "50%    3.000368e+09  \n",
      "75%    3.072340e+09  \n",
      "max    5.080490e+09  \n"
     ]
    }
   ],
   "source": [
    "print(NY_Evictions.describe())"
   ]
  },
  {
   "cell_type": "code",
   "execution_count": 23,
   "id": "dc5d8ff6",
   "metadata": {},
   "outputs": [
    {
     "name": "stdout",
     "output_type": "stream",
     "text": [
      "<class 'pandas.core.frame.DataFrame'>\n",
      "RangeIndex: 70166 entries, 0 to 70165\n",
      "Data columns (total 20 columns):\n",
      " #   Column                      Non-Null Count  Dtype  \n",
      "---  ------                      --------------  -----  \n",
      " 0   court_index_number          70166 non-null  object \n",
      " 1   docket_number               70166 non-null  int64  \n",
      " 2   eviction_address            70166 non-null  object \n",
      " 3   eviction_apt_num            58445 non-null  object \n",
      " 4   executed_date               70166 non-null  object \n",
      " 5   marshal_first_name          70166 non-null  object \n",
      " 6   marshal_last_name           70166 non-null  object \n",
      " 7   residential_commercial_ind  70166 non-null  object \n",
      " 8   borough                     70166 non-null  object \n",
      " 9   eviction_zip                70166 non-null  int64  \n",
      " 10  ejectment                   70166 non-null  object \n",
      " 11  eviction_possession         70166 non-null  object \n",
      " 12  latitude                    63418 non-null  float64\n",
      " 13  longitude                   63418 non-null  float64\n",
      " 14  community_board             63418 non-null  float64\n",
      " 15  council_district            63418 non-null  float64\n",
      " 16  census_tract                63418 non-null  float64\n",
      " 17  bin                         63290 non-null  float64\n",
      " 18  bbl                         63290 non-null  float64\n",
      " 19  nta                         63418 non-null  object \n",
      "dtypes: float64(7), int64(2), object(11)\n",
      "memory usage: 10.7+ MB\n",
      "None\n"
     ]
    }
   ],
   "source": [
    "print(NY_Evictions.info())"
   ]
  },
  {
   "cell_type": "code",
   "execution_count": 11,
   "id": "84b16bc2",
   "metadata": {},
   "outputs": [],
   "source": [
    "##########################################\n",
    "#Step 3: Clean data\n",
    "##########################################\n"
   ]
  },
  {
   "cell_type": "code",
   "execution_count": 26,
   "id": "4c129bbf",
   "metadata": {},
   "outputs": [
    {
     "name": "stdout",
     "output_type": "stream",
     "text": [
      "borough\n",
      "BRONX            22856\n",
      "BROOKLYN         20236\n",
      "MANHATTAN        10825\n",
      "QUEENS           13856\n",
      "STATEN ISLAND     2393\n",
      "Name: court_index_number, dtype: int64\n"
     ]
    },
    {
     "ename": "ValueError",
     "evalue": "Could not interpret input 'court_index_number'",
     "output_type": "error",
     "traceback": [
      "\u001b[1;31m---------------------------------------------------------------------------\u001b[0m",
      "\u001b[1;31mValueError\u001b[0m                                Traceback (most recent call last)",
      "Input \u001b[1;32mIn [26]\u001b[0m, in \u001b[0;36m<cell line: 6>\u001b[1;34m()\u001b[0m\n\u001b[0;32m      4\u001b[0m evictions_by_borough \u001b[38;5;241m=\u001b[39m NY_Evictions\u001b[38;5;241m.\u001b[39mgroupby(\u001b[38;5;124m'\u001b[39m\u001b[38;5;124mborough\u001b[39m\u001b[38;5;124m'\u001b[39m)[\u001b[38;5;124m'\u001b[39m\u001b[38;5;124mcourt_index_number\u001b[39m\u001b[38;5;124m'\u001b[39m]\u001b[38;5;241m.\u001b[39mcount()\n\u001b[0;32m      5\u001b[0m \u001b[38;5;28mprint\u001b[39m(evictions_by_borough)\n\u001b[1;32m----> 6\u001b[0m \u001b[43msns\u001b[49m\u001b[38;5;241;43m.\u001b[39;49m\u001b[43mcountplot\u001b[49m\u001b[43m(\u001b[49m\u001b[43mx\u001b[49m\u001b[38;5;241;43m=\u001b[39;49m\u001b[38;5;124;43m'\u001b[39;49m\u001b[38;5;124;43mcourt_index_number\u001b[39;49m\u001b[38;5;124;43m'\u001b[39;49m\u001b[43m,\u001b[49m\u001b[43mdata\u001b[49m\u001b[38;5;241;43m=\u001b[39;49m\u001b[43mevictions_by_borough\u001b[49m\u001b[43m)\u001b[49m\n\u001b[0;32m      7\u001b[0m plt\u001b[38;5;241m.\u001b[39mshow()\n",
      "File \u001b[1;32m~\\Anaconda3\\lib\\site-packages\\seaborn\\_decorators.py:46\u001b[0m, in \u001b[0;36m_deprecate_positional_args.<locals>.inner_f\u001b[1;34m(*args, **kwargs)\u001b[0m\n\u001b[0;32m     36\u001b[0m     warnings\u001b[38;5;241m.\u001b[39mwarn(\n\u001b[0;32m     37\u001b[0m         \u001b[38;5;124m\"\u001b[39m\u001b[38;5;124mPass the following variable\u001b[39m\u001b[38;5;132;01m{}\u001b[39;00m\u001b[38;5;124m as \u001b[39m\u001b[38;5;132;01m{}\u001b[39;00m\u001b[38;5;124mkeyword arg\u001b[39m\u001b[38;5;132;01m{}\u001b[39;00m\u001b[38;5;124m: \u001b[39m\u001b[38;5;132;01m{}\u001b[39;00m\u001b[38;5;124m. \u001b[39m\u001b[38;5;124m\"\u001b[39m\n\u001b[0;32m     38\u001b[0m         \u001b[38;5;124m\"\u001b[39m\u001b[38;5;124mFrom version 0.12, the only valid positional argument \u001b[39m\u001b[38;5;124m\"\u001b[39m\n\u001b[1;32m   (...)\u001b[0m\n\u001b[0;32m     43\u001b[0m         \u001b[38;5;167;01mFutureWarning\u001b[39;00m\n\u001b[0;32m     44\u001b[0m     )\n\u001b[0;32m     45\u001b[0m kwargs\u001b[38;5;241m.\u001b[39mupdate({k: arg \u001b[38;5;28;01mfor\u001b[39;00m k, arg \u001b[38;5;129;01min\u001b[39;00m \u001b[38;5;28mzip\u001b[39m(sig\u001b[38;5;241m.\u001b[39mparameters, args)})\n\u001b[1;32m---> 46\u001b[0m \u001b[38;5;28;01mreturn\u001b[39;00m f(\u001b[38;5;241m*\u001b[39m\u001b[38;5;241m*\u001b[39mkwargs)\n",
      "File \u001b[1;32m~\\Anaconda3\\lib\\site-packages\\seaborn\\categorical.py:3598\u001b[0m, in \u001b[0;36mcountplot\u001b[1;34m(x, y, hue, data, order, hue_order, orient, color, palette, saturation, dodge, ax, **kwargs)\u001b[0m\n\u001b[0;32m   3595\u001b[0m \u001b[38;5;28;01melif\u001b[39;00m x \u001b[38;5;129;01mis\u001b[39;00m \u001b[38;5;129;01mnot\u001b[39;00m \u001b[38;5;28;01mNone\u001b[39;00m \u001b[38;5;129;01mand\u001b[39;00m y \u001b[38;5;129;01mis\u001b[39;00m \u001b[38;5;129;01mnot\u001b[39;00m \u001b[38;5;28;01mNone\u001b[39;00m:\n\u001b[0;32m   3596\u001b[0m     \u001b[38;5;28;01mraise\u001b[39;00m \u001b[38;5;167;01mValueError\u001b[39;00m(\u001b[38;5;124m\"\u001b[39m\u001b[38;5;124mCannot pass values for both `x` and `y`\u001b[39m\u001b[38;5;124m\"\u001b[39m)\n\u001b[1;32m-> 3598\u001b[0m plotter \u001b[38;5;241m=\u001b[39m \u001b[43m_CountPlotter\u001b[49m\u001b[43m(\u001b[49m\n\u001b[0;32m   3599\u001b[0m \u001b[43m    \u001b[49m\u001b[43mx\u001b[49m\u001b[43m,\u001b[49m\u001b[43m \u001b[49m\u001b[43my\u001b[49m\u001b[43m,\u001b[49m\u001b[43m \u001b[49m\u001b[43mhue\u001b[49m\u001b[43m,\u001b[49m\u001b[43m \u001b[49m\u001b[43mdata\u001b[49m\u001b[43m,\u001b[49m\u001b[43m \u001b[49m\u001b[43morder\u001b[49m\u001b[43m,\u001b[49m\u001b[43m \u001b[49m\u001b[43mhue_order\u001b[49m\u001b[43m,\u001b[49m\n\u001b[0;32m   3600\u001b[0m \u001b[43m    \u001b[49m\u001b[43mestimator\u001b[49m\u001b[43m,\u001b[49m\u001b[43m \u001b[49m\u001b[43mci\u001b[49m\u001b[43m,\u001b[49m\u001b[43m \u001b[49m\u001b[43mn_boot\u001b[49m\u001b[43m,\u001b[49m\u001b[43m \u001b[49m\u001b[43munits\u001b[49m\u001b[43m,\u001b[49m\u001b[43m \u001b[49m\u001b[43mseed\u001b[49m\u001b[43m,\u001b[49m\n\u001b[0;32m   3601\u001b[0m \u001b[43m    \u001b[49m\u001b[43morient\u001b[49m\u001b[43m,\u001b[49m\u001b[43m \u001b[49m\u001b[43mcolor\u001b[49m\u001b[43m,\u001b[49m\u001b[43m \u001b[49m\u001b[43mpalette\u001b[49m\u001b[43m,\u001b[49m\u001b[43m \u001b[49m\u001b[43msaturation\u001b[49m\u001b[43m,\u001b[49m\n\u001b[0;32m   3602\u001b[0m \u001b[43m    \u001b[49m\u001b[43merrcolor\u001b[49m\u001b[43m,\u001b[49m\u001b[43m \u001b[49m\u001b[43merrwidth\u001b[49m\u001b[43m,\u001b[49m\u001b[43m \u001b[49m\u001b[43mcapsize\u001b[49m\u001b[43m,\u001b[49m\u001b[43m \u001b[49m\u001b[43mdodge\u001b[49m\n\u001b[0;32m   3603\u001b[0m \u001b[43m\u001b[49m\u001b[43m)\u001b[49m\n\u001b[0;32m   3605\u001b[0m plotter\u001b[38;5;241m.\u001b[39mvalue_label \u001b[38;5;241m=\u001b[39m \u001b[38;5;124m\"\u001b[39m\u001b[38;5;124mcount\u001b[39m\u001b[38;5;124m\"\u001b[39m\n\u001b[0;32m   3607\u001b[0m \u001b[38;5;28;01mif\u001b[39;00m ax \u001b[38;5;129;01mis\u001b[39;00m \u001b[38;5;28;01mNone\u001b[39;00m:\n",
      "File \u001b[1;32m~\\Anaconda3\\lib\\site-packages\\seaborn\\categorical.py:1584\u001b[0m, in \u001b[0;36m_BarPlotter.__init__\u001b[1;34m(self, x, y, hue, data, order, hue_order, estimator, ci, n_boot, units, seed, orient, color, palette, saturation, errcolor, errwidth, capsize, dodge)\u001b[0m\n\u001b[0;32m   1579\u001b[0m \u001b[38;5;28;01mdef\u001b[39;00m \u001b[38;5;21m__init__\u001b[39m(\u001b[38;5;28mself\u001b[39m, x, y, hue, data, order, hue_order,\n\u001b[0;32m   1580\u001b[0m              estimator, ci, n_boot, units, seed,\n\u001b[0;32m   1581\u001b[0m              orient, color, palette, saturation, errcolor,\n\u001b[0;32m   1582\u001b[0m              errwidth, capsize, dodge):\n\u001b[0;32m   1583\u001b[0m     \u001b[38;5;124;03m\"\"\"Initialize the plotter.\"\"\"\u001b[39;00m\n\u001b[1;32m-> 1584\u001b[0m     \u001b[38;5;28;43mself\u001b[39;49m\u001b[38;5;241;43m.\u001b[39;49m\u001b[43mestablish_variables\u001b[49m\u001b[43m(\u001b[49m\u001b[43mx\u001b[49m\u001b[43m,\u001b[49m\u001b[43m \u001b[49m\u001b[43my\u001b[49m\u001b[43m,\u001b[49m\u001b[43m \u001b[49m\u001b[43mhue\u001b[49m\u001b[43m,\u001b[49m\u001b[43m \u001b[49m\u001b[43mdata\u001b[49m\u001b[43m,\u001b[49m\u001b[43m \u001b[49m\u001b[43morient\u001b[49m\u001b[43m,\u001b[49m\n\u001b[0;32m   1585\u001b[0m \u001b[43m                             \u001b[49m\u001b[43morder\u001b[49m\u001b[43m,\u001b[49m\u001b[43m \u001b[49m\u001b[43mhue_order\u001b[49m\u001b[43m,\u001b[49m\u001b[43m \u001b[49m\u001b[43munits\u001b[49m\u001b[43m)\u001b[49m\n\u001b[0;32m   1586\u001b[0m     \u001b[38;5;28mself\u001b[39m\u001b[38;5;241m.\u001b[39mestablish_colors(color, palette, saturation)\n\u001b[0;32m   1587\u001b[0m     \u001b[38;5;28mself\u001b[39m\u001b[38;5;241m.\u001b[39mestimate_statistic(estimator, ci, n_boot, seed)\n",
      "File \u001b[1;32m~\\Anaconda3\\lib\\site-packages\\seaborn\\categorical.py:153\u001b[0m, in \u001b[0;36m_CategoricalPlotter.establish_variables\u001b[1;34m(self, x, y, hue, data, orient, order, hue_order, units)\u001b[0m\n\u001b[0;32m    151\u001b[0m     \u001b[38;5;28;01mif\u001b[39;00m \u001b[38;5;28misinstance\u001b[39m(var, \u001b[38;5;28mstr\u001b[39m):\n\u001b[0;32m    152\u001b[0m         err \u001b[38;5;241m=\u001b[39m \u001b[38;5;124m\"\u001b[39m\u001b[38;5;124mCould not interpret input \u001b[39m\u001b[38;5;124m'\u001b[39m\u001b[38;5;132;01m{}\u001b[39;00m\u001b[38;5;124m'\u001b[39m\u001b[38;5;124m\"\u001b[39m\u001b[38;5;241m.\u001b[39mformat(var)\n\u001b[1;32m--> 153\u001b[0m         \u001b[38;5;28;01mraise\u001b[39;00m \u001b[38;5;167;01mValueError\u001b[39;00m(err)\n\u001b[0;32m    155\u001b[0m \u001b[38;5;66;03m# Figure out the plotting orientation\u001b[39;00m\n\u001b[0;32m    156\u001b[0m orient \u001b[38;5;241m=\u001b[39m infer_orient(\n\u001b[0;32m    157\u001b[0m     x, y, orient, require_numeric\u001b[38;5;241m=\u001b[39m\u001b[38;5;28mself\u001b[39m\u001b[38;5;241m.\u001b[39mrequire_numeric\n\u001b[0;32m    158\u001b[0m )\n",
      "\u001b[1;31mValueError\u001b[0m: Could not interpret input 'court_index_number'"
     ]
    }
   ],
   "source": [
    "##########################################\n",
    "#Step 4: Manipulate data\n",
    "##########################################\n",
    "evictions_by_borough = NY_Evictions.groupby('borough')['court_index_number'].count()\n",
    "print(evictions_by_borough)\n",
    "\n"
   ]
  },
  {
   "cell_type": "code",
   "execution_count": null,
   "id": "59a8c331",
   "metadata": {},
   "outputs": [],
   "source": [
    "sns.kdeplot(x='longitude',y='latitude',data=NY_Evictions)\n",
    "plt.show()"
   ]
  },
  {
   "cell_type": "code",
   "execution_count": 13,
   "id": "ab872e33",
   "metadata": {},
   "outputs": [],
   "source": [
    "##########################################\n",
    "#Step 5: Graph data\n",
    "##########################################"
   ]
  }
 ],
 "metadata": {
  "kernelspec": {
   "display_name": "Python 3 (ipykernel)",
   "language": "python",
   "name": "python3"
  },
  "language_info": {
   "codemirror_mode": {
    "name": "ipython",
    "version": 3
   },
   "file_extension": ".py",
   "mimetype": "text/x-python",
   "name": "python",
   "nbconvert_exporter": "python",
   "pygments_lexer": "ipython3",
   "version": "3.9.12"
  }
 },
 "nbformat": 4,
 "nbformat_minor": 5
}
